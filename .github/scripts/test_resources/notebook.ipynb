{
 "metadata": {},
 "nbformat": 4,
 "nbformat_minor": 2,
 "cells": [
  {
   "cell_type": "code",
   "execution_count": 1,
   "source": [
    "%use gradle-enterprise-api-kotlin(version=2023.1.0)"
   ],
   "outputs": []
  }
 ]
}
